{
 "cells": [
  {
   "cell_type": "code",
   "execution_count": 1,
   "id": "7e23a84a",
   "metadata": {
    "_cell_guid": "b1076dfc-b9ad-4769-8c92-a6c4dae69d19",
    "_uuid": "8f2839f25d086af736a60e9eeb907d3b93b6e0e5",
    "execution": {
     "iopub.execute_input": "2025-10-29T18:14:10.477137Z",
     "iopub.status.busy": "2025-10-29T18:14:10.476826Z",
     "iopub.status.idle": "2025-10-29T18:14:10.975048Z",
     "shell.execute_reply": "2025-10-29T18:14:10.974177Z"
    },
    "papermill": {
     "duration": 0.504493,
     "end_time": "2025-10-29T18:14:10.976294",
     "exception": false,
     "start_time": "2025-10-29T18:14:10.471801",
     "status": "completed"
    },
    "tags": []
   },
   "outputs": [
    {
     "name": "stdout",
     "output_type": "stream",
     "text": [
      "Path to dataset files: /kaggle/input/gtzan-dataset-music-genre-classification\n"
     ]
    }
   ],
   "source": [
    "import kagglehub\n",
    "\n",
    "# Download latest version\n",
    "path = kagglehub.dataset_download(\"andradaolteanu/gtzan-dataset-music-genre-classification\")\n",
    "\n",
    "print(\"Path to dataset files:\", path)"
   ]
  },
  {
   "cell_type": "code",
   "execution_count": 2,
   "id": "4f4b4b3f",
   "metadata": {
    "execution": {
     "iopub.execute_input": "2025-10-29T18:14:10.982227Z",
     "iopub.status.busy": "2025-10-29T18:14:10.981547Z",
     "iopub.status.idle": "2025-10-29T18:14:14.197733Z",
     "shell.execute_reply": "2025-10-29T18:14:14.196941Z"
    },
    "papermill": {
     "duration": 3.220444,
     "end_time": "2025-10-29T18:14:14.199185",
     "exception": false,
     "start_time": "2025-10-29T18:14:10.978741",
     "status": "completed"
    },
    "tags": []
   },
   "outputs": [],
   "source": [
    "import os\n",
    "import numpy as np\n",
    "import pandas as pd\n",
    "import librosa\n",
    "import librosa.display\n",
    "import matplotlib.pyplot as plt\n",
    "import seaborn as sns\n",
    "from sklearn.model_selection import train_test_split\n",
    "from sklearn.preprocessing import StandardScaler, LabelEncoder\n",
    "from sklearn.metrics import classification_report, confusion_matrix, accuracy_score\n",
    "from tqdm import tqdm\n",
    "import warnings\n",
    "warnings.filterwarnings('ignore')"
   ]
  },
  {
   "cell_type": "code",
   "execution_count": 3,
   "id": "f53dacf6",
   "metadata": {
    "execution": {
     "iopub.execute_input": "2025-10-29T18:14:14.204742Z",
     "iopub.status.busy": "2025-10-29T18:14:14.204188Z",
     "iopub.status.idle": "2025-10-29T18:17:38.268276Z",
     "shell.execute_reply": "2025-10-29T18:17:38.267350Z"
    },
    "papermill": {
     "duration": 204.067911,
     "end_time": "2025-10-29T18:17:38.269440",
     "exception": false,
     "start_time": "2025-10-29T18:14:14.201529",
     "status": "completed"
    },
    "tags": []
   },
   "outputs": [
    {
     "name": "stdout",
     "output_type": "stream",
     "text": [
      "Genres: ['disco', 'metal', 'reggae', 'blues', 'rock', 'classical', 'jazz', 'hiphop', 'country', 'pop']\n"
     ]
    },
    {
     "name": "stderr",
     "output_type": "stream",
     "text": [
      " 60%|██████    | 6/10 [02:07<01:19, 19.84s/it]"
     ]
    },
    {
     "name": "stdout",
     "output_type": "stream",
     "text": [
      "Skipping /kaggle/input/gtzan-dataset-music-genre-classification/Data/genres_original/jazz/jazz.00054.wav: \n"
     ]
    },
    {
     "name": "stderr",
     "output_type": "stream",
     "text": [
      "100%|██████████| 10/10 [03:24<00:00, 20.40s/it]"
     ]
    },
    {
     "name": "stdout",
     "output_type": "stream",
     "text": [
      "Feature matrix shape: (999, 160)\n",
      "Labels shape: (999,)\n"
     ]
    },
    {
     "name": "stderr",
     "output_type": "stream",
     "text": [
      "\n"
     ]
    }
   ],
   "source": [
    "DATASET_PATH = \"/kaggle/input/gtzan-dataset-music-genre-classification/Data/genres_original\"\n",
    "genres = os.listdir(DATASET_PATH)\n",
    "print(\"Genres:\", genres)\n",
    "\n",
    "features = []\n",
    "labels = []\n",
    "\n",
    "def extract_features(file_path):\n",
    "    y, sr = librosa.load(file_path, duration=30)\n",
    "    mfcc = np.mean(librosa.feature.mfcc(y=y, sr=sr, n_mfcc=20).T, axis=0)\n",
    "    chroma = np.mean(librosa.feature.chroma_stft(y=y, sr=sr).T, axis=0)\n",
    "    mel = np.mean(librosa.feature.melspectrogram(y=y, sr=sr).T, axis=0)\n",
    "    return np.hstack([mfcc, chroma, mel])\n",
    "\n",
    "for genre in tqdm(genres):\n",
    "    genre_dir = os.path.join(DATASET_PATH, genre)\n",
    "    if not os.path.isdir(genre_dir):\n",
    "        continue\n",
    "    for filename in os.listdir(genre_dir):\n",
    "        if filename.endswith(\".wav\"):\n",
    "            file_path = os.path.join(genre_dir, filename)\n",
    "            try:\n",
    "                data = extract_features(file_path)\n",
    "                features.append(data)\n",
    "                labels.append(genre)\n",
    "            except Exception as e:\n",
    "                print(f\"Skipping {file_path}: {e}\")\n",
    "\n",
    "X = np.array(features)\n",
    "y = np.array(labels)\n",
    "\n",
    "print(\"Feature matrix shape:\", X.shape)\n",
    "print(\"Labels shape:\", y.shape)\n",
    "\n"
   ]
  },
  {
   "cell_type": "code",
   "execution_count": 4,
   "id": "924b4f57",
   "metadata": {
    "execution": {
     "iopub.execute_input": "2025-10-29T18:17:38.277475Z",
     "iopub.status.busy": "2025-10-29T18:17:38.277055Z",
     "iopub.status.idle": "2025-10-29T18:17:38.290336Z",
     "shell.execute_reply": "2025-10-29T18:17:38.289703Z"
    },
    "papermill": {
     "duration": 0.018361,
     "end_time": "2025-10-29T18:17:38.291420",
     "exception": false,
     "start_time": "2025-10-29T18:17:38.273059",
     "status": "completed"
    },
    "tags": []
   },
   "outputs": [
    {
     "name": "stdout",
     "output_type": "stream",
     "text": [
      "Train shape: (799, 160) Test shape: (200, 160)\n"
     ]
    }
   ],
   "source": [
    "# Encode labels\n",
    "encoder = LabelEncoder()\n",
    "y_encoded = encoder.fit_transform(y)\n",
    "\n",
    "# Split into train/test\n",
    "X_train, X_test, y_train, y_test = train_test_split(X, y_encoded, test_size=0.2, random_state=42, stratify=y_encoded)\n",
    "\n",
    "# Standardize features\n",
    "scaler = StandardScaler()\n",
    "X_train = scaler.fit_transform(X_train)\n",
    "X_test = scaler.transform(X_test)\n",
    "\n",
    "print(\"Train shape:\", X_train.shape, \"Test shape:\", X_test.shape)\n"
   ]
  },
  {
   "cell_type": "code",
   "execution_count": 5,
   "id": "a28eb60a",
   "metadata": {
    "execution": {
     "iopub.execute_input": "2025-10-29T18:17:38.297942Z",
     "iopub.status.busy": "2025-10-29T18:17:38.297377Z",
     "iopub.status.idle": "2025-10-29T18:18:20.307340Z",
     "shell.execute_reply": "2025-10-29T18:18:20.306551Z"
    },
    "papermill": {
     "duration": 42.014295,
     "end_time": "2025-10-29T18:18:20.308455",
     "exception": false,
     "start_time": "2025-10-29T18:17:38.294160",
     "status": "completed"
    },
    "tags": []
   },
   "outputs": [
    {
     "name": "stdout",
     "output_type": "stream",
     "text": [
      "Training Logistic Regression...\n",
      "Logistic Regression Accuracy: 0.6200\n",
      "Training KNN...\n",
      "KNN Accuracy: 0.5100\n",
      "Training SVM (RBF)...\n",
      "SVM (RBF) Accuracy: 0.5850\n",
      "Training Random Forest...\n",
      "Random Forest Accuracy: 0.6250\n",
      "Training Gradient Boosting...\n",
      "Gradient Boosting Accuracy: 0.6100\n",
      "Training XGBoost...\n",
      "XGBoost Accuracy: 0.6500\n"
     ]
    }
   ],
   "source": [
    "from sklearn.linear_model import LogisticRegression\n",
    "from sklearn.ensemble import RandomForestClassifier, GradientBoostingClassifier\n",
    "from sklearn.svm import SVC\n",
    "from sklearn.neighbors import KNeighborsClassifier\n",
    "from xgboost import XGBClassifier\n",
    "\n",
    "models = {\n",
    "    \"Logistic Regression\": LogisticRegression(max_iter=500),\n",
    "    \"KNN\": KNeighborsClassifier(n_neighbors=5),\n",
    "    \"SVM (RBF)\": SVC(kernel='rbf', probability=True),\n",
    "    \"Random Forest\": RandomForestClassifier(n_estimators=200),\n",
    "    \"Gradient Boosting\": GradientBoostingClassifier(),\n",
    "    \"XGBoost\": XGBClassifier(eval_metric='mlogloss', use_label_encoder=False)\n",
    "}\n",
    "\n",
    "results = {}\n",
    "\n",
    "for name, model in models.items():\n",
    "    print(f\"Training {name}...\")\n",
    "    model.fit(X_train, y_train)\n",
    "    preds = model.predict(X_test)\n",
    "    acc = accuracy_score(y_test, preds)\n",
    "    results[name] = acc\n",
    "    print(f\"{name} Accuracy: {acc:.4f}\")\n"
   ]
  },
  {
   "cell_type": "code",
   "execution_count": 6,
   "id": "ce45a358",
   "metadata": {
    "execution": {
     "iopub.execute_input": "2025-10-29T18:18:20.317173Z",
     "iopub.status.busy": "2025-10-29T18:18:20.316962Z",
     "iopub.status.idle": "2025-10-29T18:18:20.535708Z",
     "shell.execute_reply": "2025-10-29T18:18:20.534934Z"
    },
    "papermill": {
     "duration": 0.224387,
     "end_time": "2025-10-29T18:18:20.536885",
     "exception": false,
     "start_time": "2025-10-29T18:18:20.312498",
     "status": "completed"
    },
    "tags": []
   },
   "outputs": [
    {
     "data": {
      "image/png": "[encoded data removed]",
      "text/plain": [
       "<Figure size 640x480 with 1 Axes>"
      ]
     },
     "metadata": {},
     "output_type": "display_data"
    }
   ],
   "source": [
    "results_df = pd.DataFrame(list(results.items()), columns=[\"Model\", \"Accuracy\"]).sort_values(by=\"Accuracy\", ascending=False)\n",
    "sns.barplot(x=\"Accuracy\", y=\"Model\", data=results_df, palette=\"viridis\")\n",
    "plt.title(\"Model Comparison - Music Genre Classification\")\n",
    "plt.show()"
   ]
  },
  {
   "cell_type": "code",
   "execution_count": 7,
   "id": "0ce5461f",
   "metadata": {
    "execution": {
     "iopub.execute_input": "2025-10-29T18:18:20.544699Z",
     "iopub.status.busy": "2025-10-29T18:18:20.544490Z",
     "iopub.status.idle": "2025-10-29T18:18:20.948553Z",
     "shell.execute_reply": "2025-10-29T18:18:20.947792Z"
    },
    "papermill": {
     "duration": 0.409749,
     "end_time": "2025-10-29T18:18:20.950196",
     "exception": false,
     "start_time": "2025-10-29T18:18:20.540447",
     "status": "completed"
    },
    "tags": []
   },
   "outputs": [
    {
     "name": "stdout",
     "output_type": "stream",
     "text": [
      "Best Model: XGBoost\n",
      "              precision    recall  f1-score   support\n",
      "\n",
      "       blues       0.78      0.70      0.74        20\n",
      "   classical       0.85      0.85      0.85        20\n",
      "     country       0.48      0.55      0.51        20\n",
      "       disco       0.58      0.75      0.65        20\n",
      "      hiphop       0.58      0.55      0.56        20\n",
      "        jazz       0.67      0.60      0.63        20\n",
      "       metal       0.78      0.70      0.74        20\n",
      "         pop       0.68      0.75      0.71        20\n",
      "      reggae       0.71      0.60      0.65        20\n",
      "        rock       0.47      0.45      0.46        20\n",
      "\n",
      "    accuracy                           0.65       200\n",
      "   macro avg       0.66      0.65      0.65       200\n",
      "weighted avg       0.66      0.65      0.65       200\n",
      "\n"
     ]
    },
    {
     "data": {
      "image/png": "[encoded data removed]",
      "text/plain": [
       "<Figure size 1000x800 with 2 Axes>"
      ]
     },
     "metadata": {},
     "output_type": "display_data"
    }
   ],
   "source": [
    "best_model_name = results_df.iloc[0][\"Model\"]\n",
    "best_model = models[best_model_name]\n",
    "\n",
    "y_pred = best_model.predict(X_test)\n",
    "print(f\"Best Model: {best_model_name}\")\n",
    "print(classification_report(y_test, y_pred, target_names=encoder.classes_))\n",
    "\n",
    "# Confusion Matrix\n",
    "plt.figure(figsize=(10,8))\n",
    "cm = confusion_matrix(y_test, y_pred)\n",
    "sns.heatmap(cm, annot=True, fmt=\"d\", cmap=\"Blues\", xticklabels=encoder.classes_, yticklabels=encoder.classes_)\n",
    "plt.title(f\"Confusion Matrix - {best_model_name}\")\n",
    "plt.ylabel(\"Actual\")\n",
    "plt.xlabel(\"Predicted\")\n",
    "plt.show()\n"
   ]
  },
  {
   "cell_type": "code",
   "execution_count": 8,
   "id": "606040cb",
   "metadata": {
    "execution": {
     "iopub.execute_input": "2025-10-29T18:18:20.961945Z",
     "iopub.status.busy": "2025-10-29T18:18:20.961030Z",
     "iopub.status.idle": "2025-10-29T18:18:20.979128Z",
     "shell.execute_reply": "2025-10-29T18:18:20.978154Z"
    },
    "papermill": {
     "duration": 0.024871,
     "end_time": "2025-10-29T18:18:20.980341",
     "exception": false,
     "start_time": "2025-10-29T18:18:20.955470",
     "status": "completed"
    },
    "tags": []
   },
   "outputs": [
    {
     "name": "stdout",
     "output_type": "stream",
     "text": [
      "Model, scaler, and encoder saved.\n"
     ]
    }
   ],
   "source": [
    "import joblib\n",
    "joblib.dump(best_model, \"music_genre_classifier.pkl\")\n",
    "joblib.dump(scaler, \"scaler.pkl\")\n",
    "joblib.dump(encoder, \"label_encoder.pkl\")\n",
    "print(\"Model, scaler, and encoder saved.\")"
   ]
  },
  {
   "cell_type": "code",
   "execution_count": 9,
   "id": "87920222",
   "metadata": {
    "execution": {
     "iopub.execute_input": "2025-10-29T18:18:20.990057Z",
     "iopub.status.busy": "2025-10-29T18:18:20.989819Z",
     "iopub.status.idle": "2025-10-29T18:18:23.748237Z",
     "shell.execute_reply": "2025-10-29T18:18:23.746636Z"
    },
    "papermill": {
     "duration": 2.76461,
     "end_time": "2025-10-29T18:18:23.749738",
     "exception": false,
     "start_time": "2025-10-29T18:18:20.985128",
     "status": "completed"
    },
    "tags": []
   },
   "outputs": [
    {
     "name": "stdout",
     "output_type": "stream",
     "text": [
      "Predicted Genre: blues\n"
     ]
    }
   ],
   "source": [
    "import numpy as np\n",
    "import librosa\n",
    "import joblib\n",
    "\n",
    "# Load saved artifacts\n",
    "best_model = joblib.load(\"music_genre_classifier.pkl\")\n",
    "scaler = joblib.load(\"scaler.pkl\")\n",
    "encoder = joblib.load(\"label_encoder.pkl\")\n",
    "\n",
    "def extract_features(file_path):\n",
    "    try:\n",
    "        y, sr = librosa.load(file_path, duration=30)\n",
    "\n",
    "        # Core audio features\n",
    "        mfcc = librosa.feature.mfcc(y=y, sr=sr, n_mfcc=40)\n",
    "        mfcc_mean = np.mean(mfcc, axis=1)\n",
    "        mfcc_var = np.var(mfcc, axis=1)\n",
    "\n",
    "        chroma = librosa.feature.chroma_stft(y=y, sr=sr)\n",
    "        chroma_mean = np.mean(chroma, axis=1)\n",
    "        chroma_var = np.var(chroma, axis=1)\n",
    "\n",
    "        spec_contrast = librosa.feature.spectral_contrast(y=y, sr=sr)\n",
    "        spec_contrast_mean = np.mean(spec_contrast, axis=1)\n",
    "        spec_contrast_var = np.var(spec_contrast, axis=1)\n",
    "\n",
    "        tonnetz = librosa.feature.tonnetz(y=librosa.effects.harmonic(y), sr=sr)\n",
    "        tonnetz_mean = np.mean(tonnetz, axis=1)\n",
    "        tonnetz_var = np.var(tonnetz, axis=1)\n",
    "\n",
    "        # Add missing spectral features (each 1 value → mean + var)\n",
    "        spectral_centroid = librosa.feature.spectral_centroid(y=y, sr=sr)\n",
    "        spectral_bandwidth = librosa.feature.spectral_bandwidth(y=y, sr=sr)\n",
    "        spectral_rolloff = librosa.feature.spectral_rolloff(y=y, sr=sr)\n",
    "        zero_crossing_rate = librosa.feature.zero_crossing_rate(y)\n",
    "\n",
    "        spec_mean = np.array([\n",
    "            np.mean(spectral_centroid),\n",
    "            np.mean(spectral_bandwidth),\n",
    "            np.mean(spectral_rolloff),\n",
    "            np.mean(zero_crossing_rate)\n",
    "        ])\n",
    "\n",
    "        spec_var = np.array([\n",
    "            np.var(spectral_centroid),\n",
    "            np.var(spectral_bandwidth),\n",
    "            np.var(spectral_rolloff),\n",
    "            np.var(zero_crossing_rate)\n",
    "        ])\n",
    "\n",
    "        # Combine all → 80 + 24 + 14 + 12 + 8 = 138 … still short of 160?\n",
    "        # Let's pad to 160 if mismatch (safe fallback)\n",
    "        features = np.hstack([\n",
    "            mfcc_mean, mfcc_var,\n",
    "            chroma_mean, chroma_var,\n",
    "            spec_contrast_mean, spec_contrast_var,\n",
    "            tonnetz_mean, tonnetz_var,\n",
    "            spec_mean, spec_var\n",
    "        ])\n",
    "\n",
    "        # If training pipeline used padding/truncation, align dimensions\n",
    "        if features.shape[0] != scaler.n_features_in_:\n",
    "            features = np.pad(features, (0, scaler.n_features_in_ - features.shape[0]), mode='constant')\n",
    "        \n",
    "        return features\n",
    "    except Exception as e:\n",
    "        print(f\"Error processing {file_path}: {e}\")\n",
    "        return None\n",
    "\n",
    "def predict_genre(file_path, model, scaler, encoder):\n",
    "    features = extract_features(file_path)\n",
    "    if features is None:\n",
    "        return None\n",
    "    features = scaler.transform([features])\n",
    "    pred = model.predict(features)\n",
    "    return encoder.inverse_transform(pred)[0]\n",
    "\n",
    "# Test\n",
    "test_path = \"/kaggle/input/gtzan-dataset-music-genre-classification/Data/genres_original/blues/blues.00017.wav\"\n",
    "pred_genre = predict_genre(test_path, best_model, scaler, encoder)\n",
    "print(\"Predicted Genre:\", pred_genre)\n"
   ]
  },
  {
   "cell_type": "code",
   "execution_count": null,
   "id": "cde0e731",
   "metadata": {
    "papermill": {
     "duration": 0.005499,
     "end_time": "2025-10-29T18:18:23.761522",
     "exception": false,
     "start_time": "2025-10-29T18:18:23.756023",
     "status": "completed"
    },
    "tags": []
   },
   "outputs": [],
   "source": []
  }
 ],
 "metadata": {
  "kaggle": {
   "accelerator": "nvidiaTeslaT4",
   "dataSources": [
    {
     "databundleVersionId": 1061257,
     "datasetId": 568973,
     "isSourceIdPinned": false,
     "sourceId": 1032238,
     "sourceType": "datasetVersion"
    }
   ],
   "dockerImageVersionId": 31154,
   "isGpuEnabled": true,
   "isInternetEnabled": false,
   "language": "python",
   "sourceType": "notebook"
  },
  "kernelspec": {
   "display_name": "Python 3",
   "language": "python",
   "name": "python3"
  },
  "language_info": {
   "codemirror_mode": {
    "name": "ipython",
    "version": 3
   },
   "file_extension": ".py",
   "mimetype": "text/x-python",
   "name": "python",
   "nbconvert_exporter": "python",
   "pygments_lexer": "ipython3",
   "version": "3.11.13"
  },
  "papermill": {
   "default_parameters": {},
   "duration": 258.015281,
   "end_time": "2025-10-29T18:18:24.685499",
   "environment_variables": {},
   "exception": null,
   "input_path": "__notebook__.ipynb",
   "output_path": "__notebook__.ipynb",
   "parameters": {},
   "start_time": "2025-10-29T18:14:06.670218",
   "version": "2.6.0"
  }
 },
 "nbformat": 4,
 "nbformat_minor": 5
}
